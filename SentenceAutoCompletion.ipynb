{
 "cells": [
  {
   "cell_type": "markdown",
   "id": "ab2fde3c-4457-4d33-ad01-2c35eda0dadc",
   "metadata": {},
   "source": [
    " ## Text Preprocessing"
   ]
  },
  {
   "cell_type": "code",
   "execution_count": 1,
   "id": "f35bde27-2212-47e7-ac18-d6eefaa35b44",
   "metadata": {},
   "outputs": [
    {
     "name": "stderr",
     "output_type": "stream",
     "text": [
      "[nltk_data] Error loading punkt: <urlopen error [Errno 11001]\n",
      "[nltk_data]     getaddrinfo failed>\n",
      "[nltk_data] Error loading stopwords: <urlopen error [Errno 11001]\n",
      "[nltk_data]     getaddrinfo failed>\n"
     ]
    }
   ],
   "source": [
    "# Operating system utilities (like file/folder operations)\n",
    "import os\n",
    "# Data manipulation and analysis library\n",
    "import pandas as pd\n",
    "# Numerical computing library (arrays, mathematical operations)\n",
    "import numpy as np\n",
    "# TensorFlow library for building and training deep learning models\n",
    "import tensorflow as tf\n",
    "# Utilities for padding sequences to the same length (needed for LSTM input)\n",
    "from tensorflow.keras.preprocessing.sequence import pad_sequences\n",
    "# Layers for building neural networks:\n",
    "# Embedding: converts words into dense vectors\n",
    "# LSTM: Long Short-Term Memory layer for sequence learning\n",
    "# Dense: fully connected layer\n",
    "# Bidirectional: runs LSTM in both forward and backward directions\n",
    "from tensorflow.keras.layers import Embedding, LSTM, Dense, Bidirectional\n",
    "# Tokenizer for converting text into sequences of integers\n",
    "from tensorflow.keras.preprocessing.text import Tokenizer\n",
    "# Sequential model API (simplest way to build a feed-forward or sequential network)\n",
    "from tensorflow.keras.models import Sequential\n",
    "# Adam optimizer for training neural networks efficiently\n",
    "from tensorflow.keras.optimizers import Adam\n",
    "# Natural Language Toolkit (for text preprocessing, tokenization, etc.)\n",
    "import nltk\n",
    "# Download the 'punkt' tokenizer models (needed for splitting sentences/words)\n",
    "nltk.download('punkt')\n",
    "# Download stopwords list (optional, if you plan to remove stopwords)\n",
    "nltk.download('stopwords')\n",
    "# Regular expressions library (useful for text cleaning and pattern matching)\n",
    "import re"
   ]
  },
  {
   "cell_type": "code",
   "execution_count": 2,
   "id": "0ea48ef9-b5b2-47c9-9f19-eae2424d4bc5",
   "metadata": {},
   "outputs": [],
   "source": [
    "# Specify the filename of the text dataset to be used for training\n",
    "input_file = 'holmes.txt'\n",
    "\n",
    "# Open the file in read mode with UTF-8 encoding to handle special characters\n",
    "# 'with' ensures the file is properly closed after reading\n",
    "with open(input_file, 'r', encoding='utf-8') as infile:\n",
    "    # Read the entire contents of the file into a single string variable\n",
    "    data = infile.read()"
   ]
  },
  {
   "cell_type": "code",
   "execution_count": 3,
   "id": "ee34db18-6b6e-4990-a5e8-6a13c37b143f",
   "metadata": {},
   "outputs": [
    {
     "data": {
      "text/plain": [
       "\"*Project Gutenberg's Etext of Tom Swift And His Submarine Boat*\\n\\n#4 in the Victor Appleton's Tom Swi\""
      ]
     },
     "execution_count": 3,
     "metadata": {},
     "output_type": "execute_result"
    }
   ],
   "source": [
    "# Display the first 100 characters of the text to quickly inspect the data\n",
    "data[:100]"
   ]
  },
  {
   "cell_type": "code",
   "execution_count": 4,
   "id": "6a731994-217d-4b64-ba69-3d704941b443",
   "metadata": {},
   "outputs": [],
   "source": [
    "# Limit data to 500000 characters\n",
    "data = data[:500000]"
   ]
  },
  {
   "cell_type": "markdown",
   "id": "f68fbb27-803e-48e9-85a4-bccbcda7cfe4",
   "metadata": {},
   "source": [
    "## Clean Text"
   ]
  },
  {
   "cell_type": "code",
   "execution_count": 5,
   "id": "ca3fbb14-0101-49a7-9180-d41bd71709b5",
   "metadata": {},
   "outputs": [],
   "source": [
    "# Function to clean text by removing emojis and special characters\n",
    "def remove_emojis_and_special_characters(text):\n",
    "    \"\"\"\n",
    "    Input: text (string)\n",
    "    Output: cleaned text (string) without emojis, special characters, or extra spaces\n",
    "    \"\"\"\n",
    "    \n",
    "    # Define a regex pattern to match a wide range of emojis\n",
    "    # The Unicode ranges cover emoticons, symbols, pictographs, transport, map symbols, etc.\n",
    "    emoji_pattern = re.compile(\n",
    "        \"[\" \n",
    "        u\"\\U0001F600-\\U0001F64F\"  # emoticons\n",
    "        u\"\\U0001F300-\\U0001F5FF\"  # symbols & pictographs\n",
    "        u\"\\U0001F680-\\U0001F6FF\"  # transport & map symbols\n",
    "        u\"\\U0001F700-\\U0001F77F\"  # alchemical symbols\n",
    "        u\"\\U0001F780-\\U0001F7FF\"  # Geometric Shapes Extended\n",
    "        u\"\\U0001F800-\\U0001F8FF\"  # Supplemental Arrows-C\n",
    "        u\"\\U0001F900-\\U0001F9FF\"  # Supplemental Symbols and Pictographs\n",
    "        u\"\\U0001FA00-\\U0001FA6F\"  # Chess Symbols\n",
    "        u\"\\U0001FA70-\\U0001FAFF\"  # Symbols and Pictographs Extended-A\n",
    "        u\"\\U00002702-\\U000027B0\"  # Dingbats\n",
    "        u\"\\U000024C2-\\U0001F251\" \n",
    "        \"]+\", \n",
    "        flags=re.UNICODE\n",
    "    )\n",
    "    \n",
    "    # Remove special characters from text, keeping only letters, numbers, and whitespace\n",
    "    text = re.sub(r'[^a-zA-Z0-9\\s]', '', text)\n",
    "    \n",
    "    # Replace multiple spaces with a single space\n",
    "    text = re.sub(' +', ' ', text)\n",
    "    \n",
    "    # Return the cleaned text\n",
    "    return text"
   ]
  },
  {
   "cell_type": "code",
   "execution_count": 6,
   "id": "d47fe966-843d-40dc-b258-196d7fc7d82a",
   "metadata": {},
   "outputs": [],
   "source": [
    "# Function to preprocess text data before feeding it into the model\n",
    "def preprocess_pipeline(data) -> 'list':\n",
    "    \"\"\"\n",
    "    Input: data (string) - raw text from file\n",
    "    Output: tokenized (list of strings) - cleaned, lowercase sentences\n",
    "    \"\"\"\n",
    "    \n",
    "    # Split the text into sentences using newline characters\n",
    "    sentences = data.split('\\n')\n",
    "    \n",
    "    # Clean each sentence using the previously defined function\n",
    "    # This removes emojis and special characters from each sentence\n",
    "    for i in range(len(sentences)):\n",
    "        sentences[i] = remove_emojis_and_special_characters(sentences[i])\n",
    "    \n",
    "    # Remove leading and trailing whitespace from each sentence\n",
    "    sentences = [s.strip() for s in sentences]\n",
    "    \n",
    "    # Drop any empty sentences (after cleaning and stripping)\n",
    "    sentences = [s for s in sentences if len(s) > 0]\n",
    "    \n",
    "    # Tokenization / normalization\n",
    "    # Here we convert each sentence to lowercase\n",
    "    tokenized = []\n",
    "    for sentence in sentences:\n",
    "        sentence = sentence.lower()  # Convert text to lowercase for uniformity\n",
    "        tokenized.append(sentence)   # Append cleaned sentence to tokenized list\n",
    "    \n",
    "    # Return the list of cleaned, lowercase sentences\n",
    "    return tokenized\n",
    "\n",
    "# Apply the preprocessing pipeline to the dataset\n",
    "tokenized_sentences = preprocess_pipeline(data)"
   ]
  },
  {
   "cell_type": "raw",
   "id": "72f92e51-722d-41b5-af22-d88579b1fc02",
   "metadata": {},
   "source": [
    "What is an OOV Token?\n",
    "An out-of-vocabulary (OOV) token is a special token used in natural language processing (NLP) tasks to represent words that\n",
    "are not present in the vocabulary of the model or tokenizer. When a word that is not in the vocabulary is encountered during\n",
    "tokenization or text processing, it is replaced with the OOV token.\n",
    "\n",
    "Why Use an OOV Token?\n",
    "Using an OOV token helps handle unseen or unknown words during the training or inference phase of an NLP model. \n",
    "Instead of encountering errors or issues when encountering unknown words, the model can gracefully handle them by\n",
    "representing them with the OOV token. This is particularly useful when working with real-world data where the vocabulary\n",
    "of the model may not cover all possible words."
   ]
  },
  {
   "cell_type": "code",
   "execution_count": 7,
   "id": "005de031-df2d-4f5f-bb3e-cc0c4a55bfc0",
   "metadata": {},
   "outputs": [],
   "source": [
    "# Create a tokenizer to convert words into integer sequences\n",
    "# oov_token='<oov>' ensures that any out-of-vocabulary word gets mapped to a special token\n",
    "tokenizer = Tokenizer(oov_token='<oov>')\n",
    "\n",
    "# Fit the tokenizer on the preprocessed sentences\n",
    "# This builds the vocabulary based on the tokenized_sentences\n",
    "tokenizer.fit_on_texts(tokenized_sentences)\n",
    "\n",
    "# Calculate the total number of unique words in the vocabulary\n",
    "# +1 is added because Keras reserves index 0, so actual vocab size is word_index length + 1\n",
    "total_words = len(tokenizer.word_index) + 1\n",
    "\n",
    "# Optional: Inspect word counts and word indices\n",
    "# tokenizer.word_counts -> shows frequency of each word in the dataset\n",
    "# tokenizer.word_index  -> shows the integer mapping for each word\n"
   ]
  },
  {
   "cell_type": "raw",
   "id": "1bbc96f6-1a96-4adb-94ac-f27a6c21d218",
   "metadata": {},
   "source": [
    "n_gram example:\n",
    "[3, 15, 8, 7, 20, 12, 6]\n",
    "\n",
    "For the above sentece sentence, the code would generate the following n-gram sequences:\n",
    "\n",
    "[3, 15]\n",
    "[3, 15, 8]\n",
    "[3, 15, 8, 7]\n",
    "[3, 15, 8, 7, 20]\n",
    "[3, 15, 8, 7, 20, 12]\n",
    "[3, 15, 8, 7, 20, 12, 6]"
   ]
  },
  {
   "cell_type": "code",
   "execution_count": 8,
   "id": "7a7d8871-f396-4188-87ff-556a6414b7c8",
   "metadata": {},
   "outputs": [],
   "source": [
    "# Generate input sequences for training the LSTM model\n",
    "input_sequences = []\n",
    "\n",
    "# Loop through each preprocessed sentence\n",
    "for line in tokenized_sentences:\n",
    "    # Convert the sentence into a sequence of integers using the tokenizer\n",
    "    token_list = tokenizer.texts_to_sequences([line])[0]\n",
    "    \n",
    "    # Generate n-gram sequences\n",
    "    # Example: for sentence \"I love NLP\", token_list = [1, 2, 3]\n",
    "    # We generate: [1,2], [1,2,3] as training sequences\n",
    "    for i in range(1, len(token_list)):\n",
    "        n_gram_sequence = token_list[:i + 1]  # Take first i+1 tokens\n",
    "        input_sequences.append(n_gram_sequence)  # Add to input sequences list\n",
    "\n",
    "# Pad sequences so that all sequences have the same length\n",
    "# This is necessary because LSTM models require fixed-length inputs\n",
    "# Padding is done at the beginning of sequences ('pre') with zeros\n",
    "max_sequence_len = max([len(x) for x in input_sequences])  # Find the length of the longest sequence\n",
    "input_sequences = np.array(\n",
    "    pad_sequences(input_sequences, maxlen=max_sequence_len, padding='pre')\n",
    ")"
   ]
  },
  {
   "cell_type": "code",
   "execution_count": 9,
   "id": "ef302b2f-a921-4e56-bf68-14466c94ad6e",
   "metadata": {},
   "outputs": [],
   "source": [
    "# Split input sequences into predictors (X) and labels (y)\n",
    "# X -> all tokens except the last one in each sequence (used as input to the model)\n",
    "# labels -> the last token in each sequence (the word to predict)\n",
    "X, labels = input_sequences[:, :-1], input_sequences[:, -1]\n",
    "\n",
    "# One-hot encode the labels\n",
    "# Converts integer labels into a binary matrix of shape (num_samples, total_words)\n",
    "# This is necessary for categorical cross-entropy loss\n",
    "ys = tf.keras.utils.to_categorical(labels, num_classes=total_words)"
   ]
  },
  {
   "cell_type": "code",
   "execution_count": 10,
   "id": "655592ba-35d0-4310-9b7d-6e8f67b851de",
   "metadata": {},
   "outputs": [],
   "source": [
    "#Split the dataset into training, validation, and test sets\n",
    "from sklearn.model_selection import train_test_split\n",
    "\n",
    "# First, split into training (80%) and remaining (20% for validation + test)\n",
    "X_train_temp, X_val_test, y_train_temp, y_val_test = train_test_split(\n",
    "    X, ys, test_size=0.2, random_state=42\n",
    ")\n",
    "\n",
    "# Then, split the remaining 20% equally into validation and test sets (10% each)\n",
    "X_val, X_test, y_val, y_test = train_test_split(\n",
    "    X_val_test, y_val_test, test_size=0.5, random_state=42\n",
    ")"
   ]
  },
  {
   "cell_type": "markdown",
   "id": "d619399d-d949-4b1f-874b-75a9ac31b672",
   "metadata": {},
   "source": [
    "## Train LSTM Model"
   ]
  },
  {
   "cell_type": "code",
   "execution_count": 11,
   "id": "7cf01c1e-0543-4a36-8f46-3ce1d050a006",
   "metadata": {},
   "outputs": [
    {
     "name": "stdout",
     "output_type": "stream",
     "text": [
      "Epoch 1/50\n",
      "\u001b[1m2002/2002\u001b[0m \u001b[32m━━━━━━━━━━━━━━━━━━━━\u001b[0m\u001b[37m\u001b[0m \u001b[1m85s\u001b[0m 40ms/step - accuracy: 0.1093 - loss: 6.1645 - val_accuracy: 0.1227 - val_loss: 6.2157\n",
      "Epoch 2/50\n",
      "\u001b[1m2002/2002\u001b[0m \u001b[32m━━━━━━━━━━━━━━━━━━━━\u001b[0m\u001b[37m\u001b[0m \u001b[1m79s\u001b[0m 39ms/step - accuracy: 0.1324 - loss: 5.9941 - val_accuracy: 0.1299 - val_loss: 6.3461\n",
      "Epoch 3/50\n",
      "\u001b[1m2002/2002\u001b[0m \u001b[32m━━━━━━━━━━━━━━━━━━━━\u001b[0m\u001b[37m\u001b[0m \u001b[1m289s\u001b[0m 144ms/step - accuracy: 0.1489 - loss: 5.3638 - val_accuracy: 0.1379 - val_loss: 6.3694\n",
      "Epoch 4/50\n",
      "\u001b[1m2002/2002\u001b[0m \u001b[32m━━━━━━━━━━━━━━━━━━━━\u001b[0m\u001b[37m\u001b[0m \u001b[1m77s\u001b[0m 39ms/step - accuracy: 0.1594 - loss: 5.0771 - val_accuracy: 0.1252 - val_loss: 6.7451\n",
      "Epoch 5/50\n",
      "\u001b[1m2002/2002\u001b[0m \u001b[32m━━━━━━━━━━━━━━━━━━━━\u001b[0m\u001b[37m\u001b[0m \u001b[1m79s\u001b[0m 40ms/step - accuracy: 0.1726 - loss: 4.7601 - val_accuracy: 0.1390 - val_loss: 7.0161\n",
      "Epoch 6/50\n",
      "\u001b[1m2002/2002\u001b[0m \u001b[32m━━━━━━━━━━━━━━━━━━━━\u001b[0m\u001b[37m\u001b[0m \u001b[1m80s\u001b[0m 40ms/step - accuracy: 0.1855 - loss: 4.5571 - val_accuracy: 0.1308 - val_loss: 7.3402\n",
      "Epoch 7/50\n",
      "\u001b[1m2002/2002\u001b[0m \u001b[32m━━━━━━━━━━━━━━━━━━━━\u001b[0m\u001b[37m\u001b[0m \u001b[1m81s\u001b[0m 40ms/step - accuracy: 0.1889 - loss: 4.5070 - val_accuracy: 0.1279 - val_loss: 7.6973\n",
      "Epoch 8/50\n",
      "\u001b[1m2002/2002\u001b[0m \u001b[32m━━━━━━━━━━━━━━━━━━━━\u001b[0m\u001b[37m\u001b[0m \u001b[1m532s\u001b[0m 266ms/step - accuracy: 0.1987 - loss: 4.3803 - val_accuracy: 0.1288 - val_loss: 7.8987\n",
      "Epoch 9/50\n",
      "\u001b[1m2002/2002\u001b[0m \u001b[32m━━━━━━━━━━━━━━━━━━━━\u001b[0m\u001b[37m\u001b[0m \u001b[1m82s\u001b[0m 41ms/step - accuracy: 0.2052 - loss: 4.2837 - val_accuracy: 0.1358 - val_loss: 8.1944\n",
      "Epoch 10/50\n",
      "\u001b[1m2002/2002\u001b[0m \u001b[32m━━━━━━━━━━━━━━━━━━━━\u001b[0m\u001b[37m\u001b[0m \u001b[1m81s\u001b[0m 41ms/step - accuracy: 0.2074 - loss: 4.2719 - val_accuracy: 0.1272 - val_loss: 8.6263\n",
      "Epoch 11/50\n",
      "\u001b[1m2002/2002\u001b[0m \u001b[32m━━━━━━━━━━━━━━━━━━━━\u001b[0m\u001b[37m\u001b[0m \u001b[1m83s\u001b[0m 42ms/step - accuracy: 0.2097 - loss: 4.2411 - val_accuracy: 0.1282 - val_loss: 8.7709\n",
      "Epoch 12/50\n",
      "\u001b[1m2002/2002\u001b[0m \u001b[32m━━━━━━━━━━━━━━━━━━━━\u001b[0m\u001b[37m\u001b[0m \u001b[1m1016s\u001b[0m 508ms/step - accuracy: 0.2176 - loss: 4.1700 - val_accuracy: 0.1183 - val_loss: 9.0944\n",
      "Epoch 13/50\n",
      "\u001b[1m2002/2002\u001b[0m \u001b[32m━━━━━━━━━━━━━━━━━━━━\u001b[0m\u001b[37m\u001b[0m \u001b[1m81s\u001b[0m 40ms/step - accuracy: 0.2193 - loss: 4.1529 - val_accuracy: 0.1272 - val_loss: 9.2003\n",
      "Epoch 14/50\n",
      "\u001b[1m2002/2002\u001b[0m \u001b[32m━━━━━━━━━━━━━━━━━━━━\u001b[0m\u001b[37m\u001b[0m \u001b[1m83s\u001b[0m 41ms/step - accuracy: 0.2206 - loss: 4.1980 - val_accuracy: 0.1308 - val_loss: 9.2737\n",
      "Epoch 15/50\n",
      "\u001b[1m2002/2002\u001b[0m \u001b[32m━━━━━━━━━━━━━━━━━━━━\u001b[0m\u001b[37m\u001b[0m \u001b[1m83s\u001b[0m 41ms/step - accuracy: 0.2222 - loss: 4.1510 - val_accuracy: 0.1313 - val_loss: 9.6535\n",
      "Epoch 16/50\n",
      "\u001b[1m2002/2002\u001b[0m \u001b[32m━━━━━━━━━━━━━━━━━━━━\u001b[0m\u001b[37m\u001b[0m \u001b[1m83s\u001b[0m 41ms/step - accuracy: 0.2260 - loss: 4.0946 - val_accuracy: 0.1283 - val_loss: 9.7680\n",
      "Epoch 17/50\n",
      "\u001b[1m2002/2002\u001b[0m \u001b[32m━━━━━━━━━━━━━━━━━━━━\u001b[0m\u001b[37m\u001b[0m \u001b[1m80s\u001b[0m 40ms/step - accuracy: 0.2264 - loss: 4.0881 - val_accuracy: 0.1274 - val_loss: 10.0069\n",
      "Epoch 18/50\n",
      "\u001b[1m2002/2002\u001b[0m \u001b[32m━━━━━━━━━━━━━━━━━━━━\u001b[0m\u001b[37m\u001b[0m \u001b[1m82s\u001b[0m 41ms/step - accuracy: 0.2299 - loss: 4.0512 - val_accuracy: 0.1304 - val_loss: 10.0780\n",
      "Epoch 19/50\n",
      "\u001b[1m2002/2002\u001b[0m \u001b[32m━━━━━━━━━━━━━━━━━━━━\u001b[0m\u001b[37m\u001b[0m \u001b[1m82s\u001b[0m 41ms/step - accuracy: 0.2359 - loss: 3.9879 - val_accuracy: 0.1250 - val_loss: 10.4116\n",
      "Epoch 20/50\n",
      "\u001b[1m2002/2002\u001b[0m \u001b[32m━━━━━━━━━━━━━━━━━━━━\u001b[0m\u001b[37m\u001b[0m \u001b[1m82s\u001b[0m 41ms/step - accuracy: 0.2366 - loss: 4.0016 - val_accuracy: 0.1270 - val_loss: 10.3313\n",
      "Epoch 21/50\n",
      "\u001b[1m2002/2002\u001b[0m \u001b[32m━━━━━━━━━━━━━━━━━━━━\u001b[0m\u001b[37m\u001b[0m \u001b[1m83s\u001b[0m 41ms/step - accuracy: 0.2403 - loss: 3.9539 - val_accuracy: 0.1297 - val_loss: 10.4413\n",
      "Epoch 22/50\n",
      "\u001b[1m2002/2002\u001b[0m \u001b[32m━━━━━━━━━━━━━━━━━━━━\u001b[0m\u001b[37m\u001b[0m \u001b[1m82s\u001b[0m 41ms/step - accuracy: 0.2420 - loss: 3.9192 - val_accuracy: 0.1278 - val_loss: 10.6016\n",
      "Epoch 23/50\n",
      "\u001b[1m2002/2002\u001b[0m \u001b[32m━━━━━━━━━━━━━━━━━━━━\u001b[0m\u001b[37m\u001b[0m \u001b[1m82s\u001b[0m 41ms/step - accuracy: 0.2425 - loss: 3.9587 - val_accuracy: 0.1214 - val_loss: 10.9912\n",
      "Epoch 24/50\n",
      "\u001b[1m2002/2002\u001b[0m \u001b[32m━━━━━━━━━━━━━━━━━━━━\u001b[0m\u001b[37m\u001b[0m \u001b[1m81s\u001b[0m 40ms/step - accuracy: 0.2449 - loss: 3.9135 - val_accuracy: 0.1272 - val_loss: 10.9900\n",
      "Epoch 25/50\n",
      "\u001b[1m2002/2002\u001b[0m \u001b[32m━━━━━━━━━━━━━━━━━━━━\u001b[0m\u001b[37m\u001b[0m \u001b[1m81s\u001b[0m 40ms/step - accuracy: 0.2471 - loss: 3.8841 - val_accuracy: 0.1283 - val_loss: 11.2959\n",
      "Epoch 26/50\n",
      "\u001b[1m2002/2002\u001b[0m \u001b[32m━━━━━━━━━━━━━━━━━━━━\u001b[0m\u001b[37m\u001b[0m \u001b[1m80s\u001b[0m 40ms/step - accuracy: 0.2531 - loss: 3.8333 - val_accuracy: 0.1279 - val_loss: 11.6068\n",
      "Epoch 28/50\n",
      "\u001b[1m2002/2002\u001b[0m \u001b[32m━━━━━━━━━━━━━━━━━━━━\u001b[0m\u001b[37m\u001b[0m \u001b[1m88s\u001b[0m 44ms/step - accuracy: 0.2514 - loss: 3.8561 - val_accuracy: 0.1269 - val_loss: 11.7497\n",
      "Epoch 29/50\n",
      "\u001b[1m2002/2002\u001b[0m \u001b[32m━━━━━━━━━━━━━━━━━━━━\u001b[0m\u001b[37m\u001b[0m \u001b[1m88s\u001b[0m 44ms/step - accuracy: 0.2542 - loss: 3.8521 - val_accuracy: 0.1209 - val_loss: 11.8026\n",
      "Epoch 30/50\n",
      "\u001b[1m2002/2002\u001b[0m \u001b[32m━━━━━━━━━━━━━━━━━━━━\u001b[0m\u001b[37m\u001b[0m \u001b[1m82s\u001b[0m 41ms/step - accuracy: 0.2537 - loss: 3.8661 - val_accuracy: 0.1125 - val_loss: 12.0012\n",
      "Epoch 31/50\n",
      "\u001b[1m2002/2002\u001b[0m \u001b[32m━━━━━━━━━━━━━━━━━━━━\u001b[0m\u001b[37m\u001b[0m \u001b[1m84s\u001b[0m 42ms/step - accuracy: 0.2550 - loss: 3.8531 - val_accuracy: 0.1244 - val_loss: 12.2948\n",
      "Epoch 32/50\n",
      "\u001b[1m2002/2002\u001b[0m \u001b[32m━━━━━━━━━━━━━━━━━━━━\u001b[0m\u001b[37m\u001b[0m \u001b[1m88s\u001b[0m 44ms/step - accuracy: 0.2558 - loss: 3.8550 - val_accuracy: 0.1264 - val_loss: 12.3302\n",
      "Epoch 33/50\n",
      "\u001b[1m2002/2002\u001b[0m \u001b[32m━━━━━━━━━━━━━━━━━━━━\u001b[0m\u001b[37m\u001b[0m \u001b[1m86s\u001b[0m 43ms/step - accuracy: 0.2576 - loss: 3.8485 - val_accuracy: 0.1263 - val_loss: 12.3883\n",
      "Epoch 34/50\n",
      "\u001b[1m2002/2002\u001b[0m \u001b[32m━━━━━━━━━━━━━━━━━━━━\u001b[0m\u001b[37m\u001b[0m \u001b[1m89s\u001b[0m 45ms/step - accuracy: 0.2599 - loss: 3.8300 - val_accuracy: 0.1294 - val_loss: 12.4922\n",
      "Epoch 35/50\n",
      "\u001b[1m2002/2002\u001b[0m \u001b[32m━━━━━━━━━━━━━━━━━━━━\u001b[0m\u001b[37m\u001b[0m \u001b[1m91s\u001b[0m 46ms/step - accuracy: 0.2589 - loss: 3.8653 - val_accuracy: 0.1237 - val_loss: 12.6374\n",
      "Epoch 36/50\n",
      "\u001b[1m2002/2002\u001b[0m \u001b[32m━━━━━━━━━━━━━━━━━━━━\u001b[0m\u001b[37m\u001b[0m \u001b[1m84s\u001b[0m 42ms/step - accuracy: 0.2571 - loss: 3.8773 - val_accuracy: 0.1338 - val_loss: 12.6443\n",
      "Epoch 37/50\n",
      "\u001b[1m2002/2002\u001b[0m \u001b[32m━━━━━━━━━━━━━━━━━━━━\u001b[0m\u001b[37m\u001b[0m \u001b[1m85s\u001b[0m 43ms/step - accuracy: 0.2597 - loss: 3.8505 - val_accuracy: 0.1338 - val_loss: 12.8795\n",
      "Epoch 38/50\n",
      "\u001b[1m2002/2002\u001b[0m \u001b[32m━━━━━━━━━━━━━━━━━━━━\u001b[0m\u001b[37m\u001b[0m \u001b[1m84s\u001b[0m 42ms/step - accuracy: 0.2607 - loss: 3.8320 - val_accuracy: 0.1202 - val_loss: 12.9767\n",
      "Epoch 39/50\n",
      "\u001b[1m2002/2002\u001b[0m \u001b[32m━━━━━━━━━━━━━━━━━━━━\u001b[0m\u001b[37m\u001b[0m \u001b[1m85s\u001b[0m 43ms/step - accuracy: 0.2634 - loss: 3.8084 - val_accuracy: 0.1254 - val_loss: 13.1071\n",
      "Epoch 40/50\n",
      "\u001b[1m2002/2002\u001b[0m \u001b[32m━━━━━━━━━━━━━━━━━━━━\u001b[0m\u001b[37m\u001b[0m \u001b[1m85s\u001b[0m 42ms/step - accuracy: 0.2628 - loss: 3.8315 - val_accuracy: 0.1280 - val_loss: 13.2044\n",
      "Epoch 41/50\n",
      "\u001b[1m2002/2002\u001b[0m \u001b[32m━━━━━━━━━━━━━━━━━━━━\u001b[0m\u001b[37m\u001b[0m \u001b[1m84s\u001b[0m 42ms/step - accuracy: 0.2637 - loss: 3.8509 - val_accuracy: 0.1303 - val_loss: 13.4034\n",
      "Epoch 42/50\n",
      "\u001b[1m2002/2002\u001b[0m \u001b[32m━━━━━━━━━━━━━━━━━━━━\u001b[0m\u001b[37m\u001b[0m \u001b[1m82s\u001b[0m 41ms/step - accuracy: 0.2631 - loss: 3.8428 - val_accuracy: 0.1284 - val_loss: 13.5182\n",
      "Epoch 43/50\n",
      "\u001b[1m2002/2002\u001b[0m \u001b[32m━━━━━━━━━━━━━━━━━━━━\u001b[0m\u001b[37m\u001b[0m \u001b[1m83s\u001b[0m 41ms/step - accuracy: 0.2655 - loss: 3.8560 - val_accuracy: 0.1213 - val_loss: 13.5831\n",
      "Epoch 44/50\n",
      "\u001b[1m2002/2002\u001b[0m \u001b[32m━━━━━━━━━━━━━━━━━━━━\u001b[0m\u001b[37m\u001b[0m \u001b[1m84s\u001b[0m 42ms/step - accuracy: 0.2660 - loss: 3.8283 - val_accuracy: 0.1244 - val_loss: 13.6011\n",
      "Epoch 45/50\n",
      "\u001b[1m2002/2002\u001b[0m \u001b[32m━━━━━━━━━━━━━━━━━━━━\u001b[0m\u001b[37m\u001b[0m \u001b[1m83s\u001b[0m 41ms/step - accuracy: 0.2668 - loss: 3.8487 - val_accuracy: 0.1285 - val_loss: 13.9490\n",
      "Epoch 46/50\n",
      "\u001b[1m2002/2002\u001b[0m \u001b[32m━━━━━━━━━━━━━━━━━━━━\u001b[0m\u001b[37m\u001b[0m \u001b[1m81s\u001b[0m 41ms/step - accuracy: 0.2678 - loss: 3.8401 - val_accuracy: 0.1228 - val_loss: 13.9518\n",
      "Epoch 47/50\n",
      "\u001b[1m2002/2002\u001b[0m \u001b[32m━━━━━━━━━━━━━━━━━━━━\u001b[0m\u001b[37m\u001b[0m \u001b[1m81s\u001b[0m 40ms/step - accuracy: 0.2670 - loss: 3.8070 - val_accuracy: 0.1249 - val_loss: 13.9591\n",
      "Epoch 48/50\n",
      "\u001b[1m2002/2002\u001b[0m \u001b[32m━━━━━━━━━━━━━━━━━━━━\u001b[0m\u001b[37m\u001b[0m \u001b[1m82s\u001b[0m 41ms/step - accuracy: 0.2670 - loss: 3.8986 - val_accuracy: 0.1239 - val_loss: 14.1124\n",
      "Epoch 49/50\n",
      "\u001b[1m2002/2002\u001b[0m \u001b[32m━━━━━━━━━━━━━━━━━━━━\u001b[0m\u001b[37m\u001b[0m \u001b[1m85s\u001b[0m 42ms/step - accuracy: 0.2625 - loss: 3.9378 - val_accuracy: 0.1208 - val_loss: 14.0105\n",
      "Epoch 50/50\n",
      "\u001b[1m2002/2002\u001b[0m \u001b[32m━━━━━━━━━━━━━━━━━━━━\u001b[0m\u001b[37m\u001b[0m \u001b[1m87s\u001b[0m 43ms/step - accuracy: 0.2610 - loss: 3.9371 - val_accuracy: 0.1262 - val_loss: 13.9510\n"
     ]
    }
   ],
   "source": [
    "# Define the LSTM model using Keras Sequential API\n",
    "model = Sequential()\n",
    "\n",
    "# Add an Embedding layer\n",
    "# Converts integer-encoded words into dense vectors of fixed size (100 here)\n",
    "# Input dimension = total_words (vocabulary size)\n",
    "model.add(Embedding(total_words, 100))\n",
    "\n",
    "# Add a Bidirectional LSTM layer\n",
    "# Processes sequences in both forward and backward directions\n",
    "# 150 units (memory cells) in the LSTM\n",
    "model.add(Bidirectional(LSTM(150)))\n",
    "\n",
    "# Add a Dense output layer\n",
    "# Number of units = total_words (vocabulary size)\n",
    "# Activation = 'softmax' for multi-class prediction (predicting next word)\n",
    "model.add(Dense(total_words, activation='softmax'))\n",
    "\n",
    "# Compile the model\n",
    "# Use Adam optimizer with learning rate 0.01\n",
    "# Loss = categorical crossentropy (since output is one-hot encoded)\n",
    "# Metrics = accuracy\n",
    "adam = Adam(learning_rate=0.01)\n",
    "model.compile(loss='categorical_crossentropy', optimizer=adam, metrics=['accuracy'])\n",
    "\n",
    "# Train the model\n",
    "# Fit the model on the training data\n",
    "# epochs = 50 (number of passes over the dataset)\n",
    "# validation_data = (X_val, y_val) to monitor validation accuracy/loss\n",
    "# verbose=1 to display training progress\n",
    "history = model.fit(X_train_temp, y_train_temp, epochs=50, validation_data=(X_val, y_val), verbose=1)\n"
   ]
  },
  {
   "cell_type": "markdown",
   "id": "1f93079a-2f20-4a3f-b75b-ce3de93960a6",
   "metadata": {},
   "source": [
    "## Save Models (Weights and biases)"
   ]
  },
  {
   "cell_type": "code",
   "execution_count": 12,
   "id": "a9b71a37-6fb8-4437-b219-136d04627de6",
   "metadata": {},
   "outputs": [],
   "source": [
    "# # Save model architecture as JSON file\n",
    "# from tensorflow.keras.models import model_from_json\n",
    "\n",
    "# model_json = model.to_json()\n",
    "# with open(\"lstm_model.json\", \"w\") as json_file:\n",
    "#     json_file.write(model_json)"
   ]
  },
  {
   "cell_type": "code",
   "execution_count": 13,
   "id": "7564c60c-9e9c-4bec-823b-185eba3f0c48",
   "metadata": {},
   "outputs": [],
   "source": [
    "# # Load model architecture from JSON file\n",
    "# from tensorflow.keras.models import model_from_json\n",
    "\n",
    "# with open(\"lstm_model.json\", \"r\") as json_file:\n",
    "#     loaded_model_json = json_file.read()\n",
    "\n",
    "# # Create model from loaded architecture\n",
    "# loaded_model = model_from_json(loaded_model_json)\n",
    "\n",
    "# print(\"Model architecture loaded successfully from JSON file.\")"
   ]
  },
  {
   "cell_type": "code",
   "execution_count": 14,
   "id": "db3be24d-27bf-4af9-87c4-9f40dbbb38f7",
   "metadata": {},
   "outputs": [],
   "source": [
    "# Import libraries for plotting\n",
    "import matplotlib.pyplot as plt   # Basic plotting library\n",
    "import seaborn as sns             # Advanced plotting library (not used in this snippet)\n",
    "from sklearn.metrics import confusion_matrix  # For creating confusion matrices (not used here yet)"
   ]
  },
  {
   "cell_type": "code",
   "execution_count": 15,
   "id": "44c832c1-5ab9-4369-bb0d-590a0300924c",
   "metadata": {},
   "outputs": [
    {
     "data": {
      "image/png": "[encoded data removed]",
      "text/plain": [
       "<Figure size 640x480 with 1 Axes>"
      ]
     },
     "metadata": {},
     "output_type": "display_data"
    },
    {
     "data": {
      "image/png": "[encoded data removed]",
      "text/plain": [
       "<Figure size 640x480 with 1 Axes>"
      ]
     },
     "metadata": {},
     "output_type": "display_data"
    }
   ],
   "source": [
    "# Plot the training loss per epoch\n",
    "plt.plot(history.history['loss'], label='Training Loss')\n",
    "\n",
    "# Plot the validation loss per epoch\n",
    "plt.plot(history.history['val_loss'], label='Validation Loss')\n",
    "\n",
    "# Add title and labels\n",
    "plt.title('Training and Validation Loss')\n",
    "plt.xlabel('Epochs')  # x-axis represents epochs\n",
    "plt.ylabel('Loss')    # y-axis represents loss value\n",
    "\n",
    "# Add legend to differentiate training and validation curves\n",
    "plt.legend()\n",
    "\n",
    "# Display the loss plot\n",
    "plt.show()\n",
    "\n",
    "# =============================\n",
    "# Plot Training and Validation Accuracy\n",
    "# =============================\n",
    "# Plot the training accuracy per epoch\n",
    "plt.plot(history.history['accuracy'], label='Training Accuracy')\n",
    "\n",
    "# Plot the validation accuracy per epoch\n",
    "plt.plot(history.history['val_accuracy'], label='Validation Accuracy')\n",
    "\n",
    "# Add title and labels\n",
    "plt.title('Training and Validation Accuracy')\n",
    "plt.xlabel('Epochs')    # x-axis represents epochs\n",
    "plt.ylabel('Accuracy')  # y-axis represents accuracy percentage\n",
    "\n",
    "# Add legend to differentiate training and validation curves\n",
    "plt.legend()\n",
    "\n",
    "# Display the accuracy plot\n",
    "plt.show()\n"
   ]
  },
  {
   "cell_type": "markdown",
   "id": "dfdb5a08-e6ed-4f20-bb24-f60983ab9400",
   "metadata": {},
   "source": [
    "## Inferences"
   ]
  },
  {
   "cell_type": "code",
   "execution_count": 16,
   "id": "a2ec2901-d038-4065-8bf0-34da0d4f48b8",
   "metadata": {},
   "outputs": [],
   "source": [
    "import numpy as np\n",
    "from tensorflow.keras.preprocessing.sequence import pad_sequences\n",
    "from IPython.display import HTML"
   ]
  },
  {
   "cell_type": "code",
   "execution_count": 17,
   "id": "64ceaac9-29cd-49aa-af0d-a7a8c7ee92ec",
   "metadata": {},
   "outputs": [],
   "source": [
    "# Function to predict top five probable next words\n",
    "def predict_top_five_words(model, tokenizer, seed_text):\n",
    "    \"\"\"\n",
    "    Input:\n",
    "        model      : trained LSTM model\n",
    "        tokenizer  : fitted Keras tokenizer\n",
    "        seed_text  : string, starting words of the sentence\n",
    "    Output:\n",
    "        top_five_words : list of top 5 predicted next words\n",
    "    \"\"\"\n",
    "\n",
    "    # Convert the seed text into a sequence of integers using the tokenizer\n",
    "    token_list = tokenizer.texts_to_sequences([seed_text])[0]\n",
    "\n",
    "    # Pad the sequence to match the input length expected by the model\n",
    "    token_list = pad_sequences([token_list], maxlen=max_sequence_len-1, padding='pre')\n",
    "\n",
    "    # Get predicted probabilities for all words in the vocabulary\n",
    "    predicted = model.predict(token_list, verbose=0)\n",
    "\n",
    "    # Get the indexes of the top 5 words with highest probability\n",
    "    top_five_indexes = np.argsort(predicted[0])[::-1][:5]\n",
    "\n",
    "    # Convert the predicted indexes back to words using the tokenizer\n",
    "    top_five_words = []\n",
    "    for index in top_five_indexes:\n",
    "        for word, idx in tokenizer.word_index.items():\n",
    "            if idx == index:\n",
    "                top_five_words.append(word)\n",
    "                break  # Stop once the word for this index is found\n",
    "\n",
    "    return top_five_words\n",
    "\n"
   ]
  },
  {
   "cell_type": "code",
   "execution_count": 18,
   "id": "be92c7ef-a9d2-43dc-840b-3494e020bb7b",
   "metadata": {},
   "outputs": [],
   "source": [
    "# Function to display top 5 predictions in a new browser window\n",
    "def predict_and_display_top_five_words(seed_text, model, tokenizer):\n",
    "    \"\"\"\n",
    "    Input:\n",
    "        seed_text : starting words for prediction\n",
    "        model     : trained LSTM model\n",
    "        tokenizer : fitted tokenizer\n",
    "    Output:\n",
    "        HTML object to open a new browser window with top 5 predicted sentences\n",
    "    \"\"\"\n",
    "\n",
    "    # Get top 5 predicted words\n",
    "    top_five_words = predict_top_five_words(model, tokenizer, seed_text)\n",
    "\n",
    "    # HTML heading for the app window\n",
    "    heading_app = f\"<h1>Sentence AutoCompletion App With Five Outputs</h1>\"\n",
    "\n",
    "    # Create an HTML unordered list of predicted sentences\n",
    "    output_text = f\"<ul>{''.join([f'<li>{seed_text} {word}</li>' for word in top_five_words])}</ul>\"\n",
    "\n",
    "    # JavaScript code to open a new browser window and display predictions\n",
    "    javascript_code = f\"\"\"\n",
    "    <script>\n",
    "        var newWindow = window.open(\"\", \"_blank\");\n",
    "        newWindow.document.write('<html><head><title>Top Five Words</title></head><body>{heading_app} <br> <hr> {output_text}</body></html>');\n",
    "    </script>\n",
    "    \"\"\"\n",
    "\n",
    "    # Return an IPython HTML object to render the JavaScript\n",
    "    return HTML(javascript_code)\n"
   ]
  },
  {
   "cell_type": "markdown",
   "id": "baca0c59-422b-4924-9fa5-7faa06f94d06",
   "metadata": {},
   "source": [
    "## Test the model"
   ]
  },
  {
   "cell_type": "code",
   "execution_count": 19,
   "id": "0e9db074-6a33-4e5b-90c2-be58c35a71e1",
   "metadata": {},
   "outputs": [],
   "source": [
    "# Test the function"
   ]
  },
  {
   "cell_type": "code",
   "execution_count": 20,
   "id": "ba4e4739-56a2-4d67-9b74-c754fe598727",
   "metadata": {},
   "outputs": [
    {
     "data": {
      "text/html": [
       "\n",
       "    <script>\n",
       "        var newWindow = window.open(\"\", \"_blank\");\n",
       "        newWindow.document.write('<html><head><title>Top Five Words</title></head><body><h1>Sentence AutoCompletion App With Five Outputs</h1> <br> <hr> <ul><li>She is my wrong</li><li>She is my car</li><li>She is my name</li><li>She is my ship</li><li>She is my son</li></ul></body></html>');\n",
       "    </script>\n",
       "    "
      ],
      "text/plain": [
       "<IPython.core.display.HTML object>"
      ]
     },
     "execution_count": 20,
     "metadata": {},
     "output_type": "execute_result"
    }
   ],
   "source": [
    "# Test 1:\n",
    "seed_text = \"She is my\"\n",
    "predict_and_display_top_five_words(seed_text, model, tokenizer)"
   ]
  },
  {
   "cell_type": "code",
   "execution_count": 21,
   "id": "d9b2ac7d-7b2a-4a80-a3dd-ebc41aaab80b",
   "metadata": {},
   "outputs": [
    {
     "data": {
      "text/html": [
       "\n",
       "    <script>\n",
       "        var newWindow = window.open(\"\", \"_blank\");\n",
       "        newWindow.document.write('<html><head><title>Top Five Words</title></head><body><h1>Sentence AutoCompletion App With Five Outputs</h1> <br> <hr> <ul><li>I have to</li><li>I have you</li><li>I have a</li><li>I have eh</li><li>I have no</li></ul></body></html>');\n",
       "    </script>\n",
       "    "
      ],
      "text/plain": [
       "<IPython.core.display.HTML object>"
      ]
     },
     "execution_count": 21,
     "metadata": {},
     "output_type": "execute_result"
    }
   ],
   "source": [
    "# Test 2:\n",
    "seed_text = \"I have\"\n",
    "predict_and_display_top_five_words(seed_text, model, tokenizer)"
   ]
  },
  {
   "cell_type": "code",
   "execution_count": 22,
   "id": "a7a5a03a-a406-44d7-b6de-e92f42cec5ee",
   "metadata": {},
   "outputs": [
    {
     "data": {
      "text/html": [
       "\n",
       "    <script>\n",
       "        var newWindow = window.open(\"\", \"_blank\");\n",
       "        newWindow.document.write('<html><head><title>Top Five Words</title></head><body><h1>Sentence AutoCompletion App With Five Outputs</h1> <br> <hr> <ul><li>We love approach</li><li>We love interest</li><li>We love wed</li><li>We love free</li><li>We love theres</li></ul></body></html>');\n",
       "    </script>\n",
       "    "
      ],
      "text/plain": [
       "<IPython.core.display.HTML object>"
      ]
     },
     "execution_count": 22,
     "metadata": {},
     "output_type": "execute_result"
    }
   ],
   "source": [
    "# Test 3:\n",
    "seed_text = \"We love\"\n",
    "predict_and_display_top_five_words(seed_text, model, tokenizer)"
   ]
  },
  {
   "cell_type": "code",
   "execution_count": 23,
   "id": "0726799b-f046-4371-81ce-a2c557ce3bbf",
   "metadata": {},
   "outputs": [
    {
     "data": {
      "text/html": [
       "\n",
       "    <script>\n",
       "        var newWindow = window.open(\"\", \"_blank\");\n",
       "        newWindow.document.write('<html><head><title>Top Five Words</title></head><body><h1>Sentence AutoCompletion App With Five Outputs</h1> <br> <hr> <ul><li>How are you</li><li>How are crowding</li><li>How are regarding</li><li>How are hardly</li><li>How are is</li></ul></body></html>');\n",
       "    </script>\n",
       "    "
      ],
      "text/plain": [
       "<IPython.core.display.HTML object>"
      ]
     },
     "execution_count": 23,
     "metadata": {},
     "output_type": "execute_result"
    }
   ],
   "source": [
    "# Test 4:\n",
    "seed_text = \"How are\"\n",
    "predict_and_display_top_five_words(seed_text, model, tokenizer)"
   ]
  },
  {
   "cell_type": "code",
   "execution_count": null,
   "id": "e9c1c2cb-1726-401e-abca-77348139aedc",
   "metadata": {},
   "outputs": [],
   "source": []
  }
 ],
 "metadata": {
  "kernelspec": {
   "display_name": "Python (venv)",
   "language": "python",
   "name": "venv"
  },
  "language_info": {
   "codemirror_mode": {
    "name": "ipython",
    "version": 3
   },
   "file_extension": ".py",
   "mimetype": "text/x-python",
   "name": "python",
   "nbconvert_exporter": "python",
   "pygments_lexer": "ipython3",
   "version": "3.13.9"
  }
 },
 "nbformat": 4,
 "nbformat_minor": 5
}
